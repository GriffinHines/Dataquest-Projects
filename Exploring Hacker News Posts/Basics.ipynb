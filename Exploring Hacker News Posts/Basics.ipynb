{
 "cells": [
  {
   "cell_type": "markdown",
   "metadata": {
    "collapsed": true
   },
   "source": [
    "## Project: Exploring Hacker News Posts\n",
    "Analyzing 20,000 posts to determine which post types recieve the most comments"
   ]
  },
  {
   "cell_type": "code",
   "execution_count": 2,
   "metadata": {},
   "outputs": [
    {
     "name": "stdout",
     "output_type": "stream",
     "text": [
      "['id', 'title', 'url', 'num_points', 'num_comments', 'author', 'created_at']\n",
      "['12224879', 'Interactive Dynamic Video', 'http://www.interactivedynamicvideo.com/', '386', '52', 'ne0phyte', '8/4/2016 11:52']\n",
      "['10975351', 'How to Use Open Source and Shut the Fuck Up at the Same Time', 'http://hueniverse.com/2016/01/26/how-to-use-open-source-and-shut-the-fuck-up-at-the-same-time/', '39', '10', 'josep2', '1/26/2016 19:30']\n",
      "['11964716', \"Florida DJs May Face Felony for April Fools' Water Joke\", 'http://www.thewire.com/entertainment/2013/04/florida-djs-april-fools-water-joke/63798/', '2', '1', 'vezycash', '6/23/2016 22:20']\n"
     ]
    }
   ],
   "source": [
    "from csv import reader\n",
    "hn = [line.strip('\\n').split(',') for line in open('hacker_news.csv')]\n",
    "\n",
    "for i in range(0,4):\n",
    "    print(hn[i])"
   ]
  },
  {
   "cell_type": "code",
   "execution_count": 3,
   "metadata": {},
   "outputs": [
    {
     "name": "stdout",
     "output_type": "stream",
     "text": [
      "['id', 'title', 'url', 'num_points', 'num_comments', 'author', 'created_at']\n",
      "['12224879', 'Interactive Dynamic Video', 'http://www.interactivedynamicvideo.com/', '386', '52', 'ne0phyte', '8/4/2016 11:52']\n",
      "['10975351', 'How to Use Open Source and Shut the Fuck Up at the Same Time', 'http://hueniverse.com/2016/01/26/how-to-use-open-source-and-shut-the-fuck-up-at-the-same-time/', '39', '10', 'josep2', '1/26/2016 19:30']\n",
      "['11964716', \"Florida DJs May Face Felony for April Fools' Water Joke\", 'http://www.thewire.com/entertainment/2013/04/florida-djs-april-fools-water-joke/63798/', '2', '1', 'vezycash', '6/23/2016 22:20']\n",
      "['11919867', 'Technology ventures: From Idea to Enterprise', 'https://www.amazon.com/Technology-Ventures-Enterprise-Thomas-Byers/dp/0073523429', '3', '1', 'hswarna', '6/17/2016 0:01']\n"
     ]
    }
   ],
   "source": [
    "headers = hn[0]\n",
    "hn = hn[1:]\n",
    "print(headers)\n",
    "for i in range(0,4):\n",
    "    print(hn[i])"
   ]
  },
  {
   "cell_type": "code",
   "execution_count": 5,
   "metadata": {},
   "outputs": [
    {
     "name": "stdout",
     "output_type": "stream",
     "text": [
      "ask posts: 1581\n",
      "show posts: 967\n",
      "other posts: 17552\n",
      "avg ask comments: 14.371283997469956\n",
      "avg show comments: 10.415718717683557\n"
     ]
    }
   ],
   "source": [
    "import datetime\n",
    "result_list = []\n",
    "counts_by_hour = {}\n",
    "comments_by_hour = {}\n",
    "\n",
    "ask_posts = []\n",
    "show_posts = []\n",
    "other_posts = []\n",
    "total_ask_comments = 0\n",
    "total_show_comments = 0\n",
    "\n",
    "for row in hn:\n",
    "    title = row[1]\n",
    "    if(title.lower().startswith(\"ask hn\")):\n",
    "        ask_posts.append(title)\n",
    "        total_ask_comments += int(row[4])\n",
    "        result_list.append([row[6], int(row[4])])\n",
    "    elif(title.lower().startswith(\"show hn\")):\n",
    "        show_posts.append(title)\n",
    "        total_show_comments += int(row[4])         \n",
    "    else:\n",
    "         other_posts.append(title)\n",
    "\n",
    "print(\"ask posts: \" + str(len(ask_posts)))\n",
    "print(\"show posts: \" + str(len(show_posts)))\n",
    "print(\"other posts: \" + str(len(other_posts)))\n",
    "\n",
    "avg_ask_comments = total_ask_comments/len(ask_posts)\n",
    "print(\"avg ask comments: \" + str(avg_ask_comments))\n",
    "avg_show_comments = total_show_comments/len(show_posts)\n",
    "print(\"avg show comments: \" + str(avg_show_comments))"
   ]
  },
  {
   "cell_type": "markdown",
   "metadata": {},
   "source": [
    "On average ask posts recieve approximately 40% more comments"
   ]
  },
  {
   "cell_type": "code",
   "execution_count": 33,
   "metadata": {},
   "outputs": [
    {
     "name": "stdout",
     "output_type": "stream",
     "text": [
      "['09', 5.83]\n",
      "['13', 15.73]\n",
      "['10', 13.83]\n",
      "['14', 14.0]\n",
      "['16', 17.81]\n",
      "['12', 10.06]\n",
      "['17', 11.97]\n",
      "['15', 39.83]\n",
      "['21', 14.21]\n",
      "['20', 22.89]\n",
      "['02', 24.78]\n",
      "['03', 7.98]\n",
      "['05', 7.85]\n",
      "['18', 13.95]\n",
      "['01', 9.69]\n",
      "['19', 11.16]\n",
      "['22', 6.29]\n",
      "['23', 8.43]\n",
      "['08', 9.84]\n",
      "['04', 7.39]\n",
      "['00', 8.26]\n",
      "['07', 7.85]\n",
      "['06', 9.56]\n",
      "['11', 11.75]\n"
     ]
    }
   ],
   "source": [
    "for row in result_list:\n",
    "    hour = datetime.datetime.strptime(row[0], \"%m/%d/%Y %H:%M\")    \n",
    "    hour = datetime.datetime.strftime(hour, \"%H\")\n",
    "    if hour not in counts_by_hour:\n",
    "        counts_by_hour[hour] = 1\n",
    "        comments_by_hour[hour] = row[1]\n",
    "    else:\n",
    "        counts_by_hour[hour] += 1\n",
    "        comments_by_hour[hour] += row[1]\n",
    "\n",
    "avg_by_hour = []\n",
    "for hour in counts_by_hour:\n",
    "        avg_by_hour.append([hour, round(comments_by_hour[hour]/counts_by_hour[hour], 2)])\n",
    "\n",
    "for row in avg_by_hour:\n",
    "    print(row)"
   ]
  },
  {
   "cell_type": "code",
   "execution_count": 72,
   "metadata": {},
   "outputs": [
    {
     "name": "stdout",
     "output_type": "stream",
     "text": [
      "Top 5 Hours for Ask Posts Comments\n",
      "15:00: 39.83 average comments per post\n",
      "02:00: 24.78 average comments per post\n",
      "20:00: 22.89 average comments per post\n",
      "16:00: 17.81 average comments per post\n",
      "13:00: 15.73 average comments per post\n"
     ]
    }
   ],
   "source": [
    "swap_avg_by_hour = []\n",
    "for row in avg_by_hour:\n",
    "    swap_avg_by_hour.append([row[1], row[0]])\n",
    "\n",
    "sorted_swap = sorted(swap_avg_by_hour, reverse=True)\n",
    "print(\"Top 5 Hours for Ask Posts Comments\")\n",
    "for i in range(0,5):\n",
    "    row = sorted_swap[i]\n",
    "    txt = \"{hour}:00: {comments} average comments per post\"\n",
    "    print(txt.format(hour = row[1], comments = row[0]))"
   ]
  },
  {
   "cell_type": "markdown",
   "metadata": {},
   "source": [
    "Data tells us that posts created at 3pm EST recieve the highest number of posts by a significant margin. This is around when workers on the eastern coast would be getting off work.\n",
    "\n",
    "In second place is 2am, which recieves 38% less comments than 3pm.\n",
    "2am is closely foll by 10am, 4pm, and 1pm."
   ]
  }
 ],
 "metadata": {
  "kernelspec": {
   "display_name": "Python 3",
   "language": "python",
   "name": "python3"
  },
  "language_info": {
   "codemirror_mode": {
    "name": "ipython",
    "version": 3
   },
   "file_extension": ".py",
   "mimetype": "text/x-python",
   "name": "python",
   "nbconvert_exporter": "python",
   "pygments_lexer": "ipython3",
   "version": "3.8.5"
  }
 },
 "nbformat": 4,
 "nbformat_minor": 2
}
