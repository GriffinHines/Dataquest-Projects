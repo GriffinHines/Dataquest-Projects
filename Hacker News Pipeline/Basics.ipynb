{
 "cells": [
  {
   "cell_type": "code",
   "execution_count": 1,
   "metadata": {},
   "outputs": [],
   "source": [
    "from pipeline import Pipeline, build_csv\n",
    "import io\n",
    "import json\n",
    "from datetime import datetime\n",
    "import csv\n",
    "import string\n",
    "from stop_words import stop_words\n",
    "import heapq\n",
    "from collections import Counter\n",
    "\n",
    "pipeline = Pipeline()\n",
    "\n",
    "@pipeline.task()\n",
    "def file_to_json():\n",
    "    with open('hn_stories_2014.json') as f:\n",
    "        dictionary = json.load(f)\n",
    "        return dictionary['stories']\n",
    "\n",
    "@pipeline.task(depends_on=file_to_json)\n",
    "def filter_stories(stories):\n",
    "    return (story for story in stories if (story['title'][0:6] != \"Ask HN\" and int(story['points']) > 50 and int(story['num_comments']) > 1))\n",
    "\n",
    "@pipeline.task(depends_on=filter_stories)\n",
    "def json_to_csv(stories):\n",
    "    header = ['objectID', 'created_at', 'url', 'points', 'title']\n",
    "    lines = []\n",
    "    for story in stories:\n",
    "        lines.append([story['objectID'], datetime.strptime(story['created_at'], \"%Y-%m-%dT%H:%M:%SZ\"), story['url'], story['points'], story['title']])\n",
    "    return build_csv(lines, header, io.StringIO())\n",
    "\n",
    "@pipeline.task(depends_on=json_to_csv)\n",
    "def extract_titles(stories_csv):\n",
    "    reader = csv.reader(stories_csv)\n",
    "    return (row[4] for row in reader)\n",
    "\n",
    "@pipeline.task(depends_on=extract_titles)\n",
    "def clean_titles(titles):\n",
    "    def clean_title(title):\n",
    "        title = title.lower()\n",
    "        for char in title:\n",
    "            if char in string.punctuation:\n",
    "                title = title.replace(char, \"\")\n",
    "        return title\n",
    "                \n",
    "    return (clean_title(title) for title in titles)\n",
    "        \n",
    "@pipeline.task(depends_on=clean_titles)\n",
    "def build_keyword_dictionary(titles_clean):\n",
    "    frequency = {}\n",
    "    for title in titles_clean:\n",
    "        words = title.split(' ')\n",
    "        for word in words:\n",
    "            if word not in stop_words:\n",
    "                if word not in frequency:\n",
    "                    frequency[word] = 1\n",
    "                else:\n",
    "                    frequency[word] += 1\n",
    "    return frequency\n",
    "\n",
    "@pipeline.task(depends_on=build_keyword_dictionary)\n",
    "def top_100_titles(titles_dict):\n",
    "    #return heapq.nlargest(100, titles_dict, key=titles_dict.get)\n",
    "    return dict(Counter(titles_dict).most_common(100))"
   ]
  },
  {
   "cell_type": "code",
   "execution_count": 2,
   "metadata": {},
   "outputs": [],
   "source": [
    "run = pipeline.run()"
   ]
  },
  {
   "cell_type": "code",
   "execution_count": 4,
   "metadata": {},
   "outputs": [
    {
     "name": "stdout",
     "output_type": "stream",
     "text": [
      "{'new': 185, 'google': 167, '': 159, 'bitcoin': 101, 'open': 92, 'programming': 90, 'web': 88, 'data': 85, 'video': 79, 'python': 75, 'code': 72, 'facebook': 71, 'released': 71, 'using': 70, '2013': 65, 'javascript': 65, 'free': 64, 'source': 64, 'game': 63, 'internet': 62, 'microsoft': 59, 'c': 59, 'linux': 58, 'app': 57, 'pdf': 55, 'work': 54, 'language': 54, 'software': 52, '2014': 52, 'startup': 51, 'apple': 50, 'use': 50, 'make': 50, 'time': 48, 'yc': 48, 'security': 48, 'nsa': 45, 'github': 45, 'windows': 44, 'world': 41, 'way': 41, 'like': 41, '1': 40, 'project': 40, 'computer': 40, 'heartbleed': 40, 'git': 37, 'users': 37, 'dont': 37, 'design': 37, 'ios': 37, 'developer': 36, 'os': 36, 'twitter': 36, 'ceo': 36, 'vs': 36, 'life': 36, 'big': 35, 'day': 35, 'android': 34, 'online': 34, 'years': 33, 'simple': 33, 'court': 33, 'guide': 32, 'learning': 32, 'mt': 32, 'api': 32, 'says': 32, 'apps': 32, 'browser': 32, 'server': 31, 'firefox': 31, 'fast': 31, 'gox': 31, 'problem': 31, 'mozilla': 31, 'engine': 31, 'site': 31, 'introducing': 30, 'amazon': 30, 'year': 30, 'support': 29, 'stop': 29, 'built': 29, 'better': 29, 'million': 29, 'people': 29, 'text': 29, '3': 28, 'does': 28, 'tech': 28, 'development': 28, 'billion': 27, 'developers': 27, 'just': 27, 'library': 27, 'did': 27, 'website': 27, 'money': 27}\n"
     ]
    }
   ],
   "source": [
    "print(run[top_100_titles])"
   ]
  },
  {
   "cell_type": "code",
   "execution_count": null,
   "metadata": {},
   "outputs": [],
   "source": []
  }
 ],
 "metadata": {
  "anaconda-cloud": {},
  "kernelspec": {
   "display_name": "Python 3",
   "language": "python",
   "name": "python3"
  },
  "language_info": {
   "codemirror_mode": {
    "name": "ipython",
    "version": 3
   },
   "file_extension": ".py",
   "mimetype": "text/x-python",
   "name": "python",
   "nbconvert_exporter": "python",
   "pygments_lexer": "ipython3",
   "version": "3.8.2"
  }
 },
 "nbformat": 4,
 "nbformat_minor": 1
}
